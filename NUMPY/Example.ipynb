{
 "cells": [
  {
   "cell_type": "code",
   "execution_count": 1,
   "id": "c8cea7d7",
   "metadata": {},
   "outputs": [],
   "source": [
    "import numpy as np\n",
    "\n",
    "\n"
   ]
  },
  {
   "cell_type": "code",
   "execution_count": 2,
   "id": "ca34cc4e",
   "metadata": {},
   "outputs": [],
   "source": [
    "# DATA STRUCTURE : [Restaurant_id,2022,2023,2024,2025]\n",
    "sales_data = np.array([\n",
    "    [1,200000,1500000,6000000,8900000],\n",
    "    [2,340000,5700000,6800000,9700000],\n",
    "    [3,450000,6700000,8200000,1000000],\n",
    "    [4,120000,2300000,4500000,3100000],\n",
    "    [5,900000,7600000,5000000,3400000]\n",
    "])"
   ]
  },
  {
   "cell_type": "code",
   "execution_count": 3,
   "id": "32899604",
   "metadata": {},
   "outputs": [
    {
     "name": "stdout",
     "output_type": "stream",
     "text": [
      "(5, 5)\n"
     ]
    }
   ],
   "source": [
    "print(sales_data.shape)"
   ]
  },
  {
   "cell_type": "markdown",
   "id": "b0efec80",
   "metadata": {},
   "source": [
    "## top 3 restaurant"
   ]
  },
  {
   "cell_type": "code",
   "execution_count": 4,
   "id": "4090c995",
   "metadata": {},
   "outputs": [
    {
     "name": "stdout",
     "output_type": "stream",
     "text": [
      "Top 3 :  [[      1  200000 1500000 6000000 8900000]\n",
      " [      2  340000 5700000 6800000 9700000]\n",
      " [      3  450000 6700000 8200000 1000000]]\n"
     ]
    }
   ],
   "source": [
    "print(\"Top 3 : \", sales_data[:3])"
   ]
  },
  {
   "cell_type": "code",
   "execution_count": 7,
   "id": "dd34200e",
   "metadata": {},
   "outputs": [
    {
     "name": "stdout",
     "output_type": "stream",
     "text": [
      "total sales of each restaurant :  [16600000 22540000 16350000 10020000 16900000]\n"
     ]
    }
   ],
   "source": [
    "total_sales_each_restaurant = np.sum(sales_data[:,1:], axis=1)\n",
    "print(\"total sales of each restaurant : \",  total_sales_each_restaurant)"
   ]
  },
  {
   "cell_type": "code",
   "execution_count": 8,
   "id": "1d7517d4",
   "metadata": {},
   "outputs": [
    {
     "name": "stdout",
     "output_type": "stream",
     "text": [
      "[ 2010000 23800000 30500000 26100000]\n"
     ]
    }
   ],
   "source": [
    "total_sales_ofAll_restaurant_yearly = np.sum(sales_data[:,1:],axis=0)\n",
    "print(total_sales_ofAll_restaurant_yearly)"
   ]
  },
  {
   "cell_type": "code",
   "execution_count": 10,
   "id": "99731b62",
   "metadata": {},
   "outputs": [
    {
     "name": "stdout",
     "output_type": "stream",
     "text": [
      "min sales of restaurant throghout years :  [200000 340000 450000 120000 900000]\n",
      "max sales of restaurant throghout years :  [8900000 9700000 8200000 4500000 7600000]\n"
     ]
    }
   ],
   "source": [
    "# MINIMUM SALES OF A RESTAURANT\n",
    "\n",
    "min_sales = np.min(sales_data[:,1:], axis = 1)\n",
    "print(\"min sales of restaurant throghout years : \" , min_sales)\n",
    "\n",
    "## MAX SALES\n",
    "max_sales = np.max(sales_data[:,1:], axis = 1)\n",
    "print(\"max sales of restaurant throghout years : \" , max_sales)"
   ]
  },
  {
   "cell_type": "code",
   "execution_count": 12,
   "id": "a4015d48",
   "metadata": {},
   "outputs": [
    {
     "name": "stdout",
     "output_type": "stream",
     "text": [
      "[ 900000 7600000 8200000 9700000]\n",
      "[ 120000 1500000 4500000 1000000]\n"
     ]
    }
   ],
   "source": [
    "# max sales among restaurant yearly\n",
    "max_sales_among_all_rest_yearly = np.max(sales_data[:,1:],axis=0)\n",
    "print(max_sales_among_all_rest_yearly)\n",
    "\n",
    "# min sales among restaurant yearly\n",
    "min_sales_among_all_rest_yearly = np.min(sales_data[:,1:],axis=0)\n",
    "print(min_sales_among_all_rest_yearly)\n"
   ]
  },
  {
   "cell_type": "code",
   "execution_count": 14,
   "id": "d6f5b0c6",
   "metadata": {},
   "outputs": [
    {
     "name": "stdout",
     "output_type": "stream",
     "text": [
      "[4150000. 5635000. 4087500. 2505000. 4225000.]\n",
      "[ 402000. 4760000. 6100000. 5220000.]\n"
     ]
    }
   ],
   "source": [
    "# average sales per restaurant\n",
    "avg= np.mean(sales_data[:,1:], axis=1)\n",
    "print(avg)\n",
    "\n",
    "# average sales of all restaurant yearly\n",
    "avg_2= np.mean(sales_data[:,1:], axis=0)\n",
    "print(avg_2)"
   ]
  },
  {
   "cell_type": "code",
   "execution_count": null,
   "id": "d53f62a2",
   "metadata": {},
   "outputs": [],
   "source": []
  }
 ],
 "metadata": {
  "kernelspec": {
   "display_name": ".venv",
   "language": "python",
   "name": "python3"
  },
  "language_info": {
   "codemirror_mode": {
    "name": "ipython",
    "version": 3
   },
   "file_extension": ".py",
   "mimetype": "text/x-python",
   "name": "python",
   "nbconvert_exporter": "python",
   "pygments_lexer": "ipython3",
   "version": "3.13.2"
  }
 },
 "nbformat": 4,
 "nbformat_minor": 5
}
