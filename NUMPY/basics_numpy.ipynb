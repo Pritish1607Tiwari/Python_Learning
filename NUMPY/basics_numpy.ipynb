{
 "cells": [
  {
   "cell_type": "markdown",
   "id": "1699202d",
   "metadata": {},
   "source": [
    "## lets start numpy"
   ]
  },
  {
   "cell_type": "code",
   "execution_count": 2,
   "id": "a9b3fefc",
   "metadata": {},
   "outputs": [],
   "source": [
    "import numpy as np"
   ]
  },
  {
   "cell_type": "code",
   "execution_count": 4,
   "id": "af325d93",
   "metadata": {},
   "outputs": [
    {
     "name": "stdout",
     "output_type": "stream",
     "text": [
      "[1 2 3 4]\n"
     ]
    },
    {
     "data": {
      "text/plain": [
       "array([[1, 2, 3],\n",
       "       [4, 5, 6]])"
      ]
     },
     "execution_count": 4,
     "metadata": {},
     "output_type": "execute_result"
    }
   ],
   "source": [
    "arr_1 = np.array([1,2,3,4])\n",
    "print(arr_1)\n",
    "arr_2 = np.array([[1,2,3],[4,5,6]])\n",
    "arr_2"
   ]
  },
  {
   "cell_type": "markdown",
   "id": "57546160",
   "metadata": {},
   "source": [
    "## multiplication | List vs np array"
   ]
  },
  {
   "cell_type": "code",
   "execution_count": 5,
   "id": "8ff8c6d7",
   "metadata": {},
   "outputs": [
    {
     "name": "stdout",
     "output_type": "stream",
     "text": [
      "[1, 2, 3, 1, 2, 3]\n",
      "[2 4 6]\n"
     ]
    }
   ],
   "source": [
    "py_list=[1,2,3]\n",
    "print(py_list *2)\n",
    "np_array = np.array([1,2,3])\n",
    "print(np_array * 2)"
   ]
  },
  {
   "cell_type": "markdown",
   "id": "cacd58ad",
   "metadata": {},
   "source": [
    "## some basic functions"
   ]
  },
  {
   "cell_type": "code",
   "execution_count": null,
   "id": "fab5d1ee",
   "metadata": {},
   "outputs": [
    {
     "name": "stdout",
     "output_type": "stream",
     "text": [
      "[[0. 0. 0.]\n",
      " [0. 0. 0.]]\n",
      "[[1. 1. 1.]\n",
      " [1. 1. 1.]]\n",
      "[[8 8 8 8]\n",
      " [8 8 8 8]]\n",
      "[[0.12058584 0.8697005  0.23706048 0.17798584]\n",
      " [0.03165984 0.53722243 0.07538907 0.30962335]]\n",
      "[[1.20585836 8.69700501 2.37060478 1.77985841]\n",
      " [0.31659837 5.37222431 0.75389075 3.09623347]]\n",
      "[[0. 1. 0. 0.]\n",
      " [0. 1. 0. 0.]]\n",
      "[0 2 4 6 8]\n",
      "[  0.           7.14285714  14.28571429  21.42857143  28.57142857\n",
      "  35.71428571  42.85714286  50.          57.14285714  64.28571429\n",
      "  71.42857143  78.57142857  85.71428571  92.85714286 100.        ]\n"
     ]
    }
   ],
   "source": [
    "zero = np.zeros((2,3))\n",
    "print(zero)\n",
    "\n",
    "ones = np.ones((2,3))\n",
    "print(ones)\n",
    "\n",
    "full = np.full((2,4), 8)\n",
    "print(full)\n",
    "\n",
    "random = np.random.random((2,4))\n",
    "print(random)\n",
    "print(random*10)\n",
    "\n",
    "round = np.round(random)\n",
    "print(round)\n",
    "\n",
    "arange = np.arange(0,10,2) ## equal gap between the raange\n",
    "print(arange)\n",
    "\n",
    "ln_space = np.linspace(0,100,15) ##equally spaced array within the range given\n",
    "print(ln_space)"
   ]
  },
  {
   "cell_type": "markdown",
   "id": "2fb26878",
   "metadata": {},
   "source": [
    "## types of array\n"
   ]
  },
  {
   "cell_type": "code",
   "execution_count": null,
   "id": "1148c89f",
   "metadata": {},
   "outputs": [
    {
     "name": "stdout",
     "output_type": "stream",
     "text": [
      "arr_1d : [1 2 3]\n",
      "arr_2d : [[1 2 3]\n",
      " [4 5 6]]\n",
      "arr_3d : [[[1 2 3]\n",
      "  [4 5 6]]\n",
      "\n",
      " [[1 2 3]\n",
      "  [4 5 6]]]\n"
     ]
    }
   ],
   "source": [
    "arr_1d = np.array([1,2,3])\n",
    "print(f\"arr_1d : {arr_1d}\")\n",
    "\n",
    "arr_2d = np.array([[1,2,3],\n",
    "                   [4,5,6]])\n",
    "print(f\"arr_2d : {arr_2d}\")\n",
    "\n",
    "arr_3d = np.array([[[1,2,3],\n",
    "                    [4,5,6]],\n",
    "                    [[1,2,3],\n",
    "                     [4,5,6]]])\n",
    "print(f\"arr_3d : {arr_3d}\")"
   ]
  },
  {
   "cell_type": "markdown",
   "id": "623e5933",
   "metadata": {},
   "source": [
    "## array properties"
   ]
  },
  {
   "cell_type": "code",
   "execution_count": 30,
   "id": "bcd84440",
   "metadata": {},
   "outputs": [
    {
     "name": "stdout",
     "output_type": "stream",
     "text": [
      "shape :  (2, 3)\n",
      "size 6\n",
      "Dtype : int64\n",
      "dimension : 2\n"
     ]
    }
   ],
   "source": [
    "arr = np.array([[1,2,3],\n",
    "                   [4,5,6]])\n",
    "\n",
    "print(\"shape : \" , arr.shape) ## no of rows and columns\n",
    "print(\"size\" , arr.size) ## no of elements in matrix\n",
    "print(\"Dtype :\" , arr.dtype) ## data type inside it\n",
    "print(\"dimension :\" , arr.ndim) ## dimension of array"
   ]
  },
  {
   "cell_type": "markdown",
   "id": "92aa1e57",
   "metadata": {},
   "source": [
    "## resizing matrices"
   ]
  },
  {
   "cell_type": "code",
   "execution_count": 38,
   "id": "da51005f",
   "metadata": {},
   "outputs": [
    {
     "name": "stdout",
     "output_type": "stream",
     "text": [
      "[ 0  1  2  3  4  5  6  7  8  9 10 11]\n",
      "[[ 0  1  2  3]\n",
      " [ 4  5  6  7]\n",
      " [ 8  9 10 11]]\n",
      "[ 0  1  2  3  4  5  6  7  8  9 10 11]\n",
      "[[ 0  1  2  3]\n",
      " [ 4  5  6  7]\n",
      " [ 8  9 10 11]]\n",
      "[ 0  1  2  3  4  5  6  7  8  9 10 11]\n",
      "[[ 0  1  2  3]\n",
      " [ 4  5  6  7]\n",
      " [ 8  9 10 11]]\n",
      "[[ 0  4  8]\n",
      " [ 1  5  9]\n",
      " [ 2  6 10]\n",
      " [ 3  7 11]]\n"
     ]
    }
   ],
   "source": [
    "arr = np.arange(12)\n",
    "print(arr)\n",
    "\n",
    "reshaped = arr.reshape(3,4) ## to change the dimensions of the matrices\n",
    "print(reshaped)\n",
    "\n",
    "flatten = reshaped.flatten() ## FLATENS THE MATRIC IN 1D\n",
    "print(flatten)\n",
    "print(reshaped)\n",
    "\n",
    "ravel = reshaped.ravel() ## returns a view instead of copy | might change original array\n",
    "print(ravel)\n",
    "print(reshaped)\n",
    "\n",
    "trans = reshaped.transpose()\n",
    "print(trans)"
   ]
  },
  {
   "cell_type": "code",
   "execution_count": null,
   "id": "314893a6",
   "metadata": {},
   "outputs": [],
   "source": []
  }
 ],
 "metadata": {
  "kernelspec": {
   "display_name": ".venv",
   "language": "python",
   "name": "python3"
  },
  "language_info": {
   "codemirror_mode": {
    "name": "ipython",
    "version": 3
   },
   "file_extension": ".py",
   "mimetype": "text/x-python",
   "name": "python",
   "nbconvert_exporter": "python",
   "pygments_lexer": "ipython3",
   "version": "3.13.2"
  }
 },
 "nbformat": 4,
 "nbformat_minor": 5
}
