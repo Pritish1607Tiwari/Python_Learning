{
 "cells": [
  {
   "cell_type": "code",
   "execution_count": 1,
   "id": "84dacf00",
   "metadata": {},
   "outputs": [],
   "source": [
    "import numpy as np"
   ]
  },
  {
   "cell_type": "code",
   "execution_count": 4,
   "id": "89f17687",
   "metadata": {},
   "outputs": [
    {
     "name": "stdout",
     "output_type": "stream",
     "text": [
      "basic slicing : [3 4 5 6 7 8]\n",
      "WITH STEP : [3 5 7]\n",
      "negative indexing : 8\n"
     ]
    }
   ],
   "source": [
    "arr = np.array([1,2,3,4,5,6,7,8,9,10])\n",
    "print(\"basic slicing :\",arr[2:8])\n",
    "print(\"WITH STEP :\",arr[2:8:2])\n",
    "print(\"negative indexing :\",arr[-3])"
   ]
  },
  {
   "cell_type": "code",
   "execution_count": 6,
   "id": "1c71906c",
   "metadata": {},
   "outputs": [
    {
     "name": "stdout",
     "output_type": "stream",
     "text": [
      "specific element 5\n",
      "entire row [7 8 9]\n",
      "entire column [3 6 9]\n"
     ]
    }
   ],
   "source": [
    "arr_2d = np.array([[1,2,3],[4,5,6],[7,8,9]])\n",
    "print(\"specific element\" , arr_2d[1,1])\n",
    "print(\"entire row\" , arr_2d[2])\n",
    "print(\"entire column\" , arr_2d[:, 2])"
   ]
  },
  {
   "cell_type": "markdown",
   "id": "7cccf0a7",
   "metadata": {},
   "source": [
    "## sorting"
   ]
  },
  {
   "cell_type": "code",
   "execution_count": 10,
   "id": "d8d5d333",
   "metadata": {},
   "outputs": [
    {
     "name": "stdout",
     "output_type": "stream",
     "text": [
      "sorted array :  [1 2 2 3 4 5 7 8 9]\n",
      "sorted array with column:  [[1 4 2]\n",
      " [1 7 6]\n",
      " [4 8 9]]\n",
      "sorted array with row:  [[1 4 6]\n",
      " [4 7 9]\n",
      " [1 2 8]]\n"
     ]
    }
   ],
   "source": [
    "arr = np.array([2,5,8,9,4,2,1,3,7])\n",
    "print(\"sorted array : \", np.sort(arr))\n",
    "\n",
    "arr_2d = np.array([[1,4,6],[4,7,9],[1,8,2]])\n",
    "print(\"sorted array with column: \", np.sort(arr_2d,axis=0))\n",
    "print(\"sorted array with row: \", np.sort(arr_2d,axis=1))"
   ]
  },
  {
   "cell_type": "markdown",
   "id": "7e2a5300",
   "metadata": {},
   "source": [
    "## filters\n"
   ]
  },
  {
   "cell_type": "code",
   "execution_count": 11,
   "id": "9bf39002",
   "metadata": {},
   "outputs": [
    {
     "name": "stdout",
     "output_type": "stream",
     "text": [
      "filtered value : [ 2  4  6  8 10]\n"
     ]
    }
   ],
   "source": [
    "arr = np.array([1,2,3,4,5,6,7,8,9,10])\n",
    "even_num= arr[arr % 2 == 0]\n",
    "print(\"filtered value :\" , even_num)"
   ]
  },
  {
   "cell_type": "markdown",
   "id": "38641e3e",
   "metadata": {},
   "source": [
    "## mask with filter\n",
    "\n"
   ]
  },
  {
   "cell_type": "code",
   "execution_count": 12,
   "id": "266d1da8",
   "metadata": {},
   "outputs": [
    {
     "name": "stdout",
     "output_type": "stream",
     "text": [
      "num greater than 5 : [ 6  7  8  9 10]\n"
     ]
    }
   ],
   "source": [
    "mask = arr > 5\n",
    "print(\"num greater than 5 :\" , arr[mask])"
   ]
  },
  {
   "cell_type": "markdown",
   "id": "6b91f608",
   "metadata": {},
   "source": [
    "## fancyindexing and np.where"
   ]
  },
  {
   "cell_type": "code",
   "execution_count": 14,
   "id": "68f92c0d",
   "metadata": {},
   "outputs": [
    {
     "name": "stdout",
     "output_type": "stream",
     "text": [
      "index values : [2 4 6]\n",
      "(array([5, 6, 7, 8, 9]),)\n",
      "where result: [ 6  7  8  9 10]\n"
     ]
    }
   ],
   "source": [
    "index = [1,3,5]\n",
    "print(\"index values :\" , arr[index])\n",
    "\n",
    "where_result = np.where(arr > 5)\n",
    "print(where_result)\n",
    "print(\"where result:\" , arr[where_result])\n",
    "\n"
   ]
  },
  {
   "cell_type": "code",
   "execution_count": 16,
   "id": "1847e090",
   "metadata": {},
   "outputs": [
    {
     "name": "stdout",
     "output_type": "stream",
     "text": [
      "[False False False False False  True  True  True  True  True]\n"
     ]
    }
   ],
   "source": [
    "condition_array = np.where(arr>5,True,False)\n",
    "print(condition_array)"
   ]
  },
  {
   "cell_type": "markdown",
   "id": "3e441e0a",
   "metadata": {},
   "source": [
    "## addition "
   ]
  },
  {
   "cell_type": "code",
   "execution_count": 21,
   "id": "19c85c84",
   "metadata": {},
   "outputs": [
    {
     "name": "stdout",
     "output_type": "stream",
     "text": [
      "[5 7 9]\n",
      "[1 2 3 4 5 6]\n",
      "[ 4 10 18]\n",
      "True\n"
     ]
    }
   ],
   "source": [
    "a = np.array([1,2,3])\n",
    "b = np.array([4,5,6])\n",
    "c = a+b\n",
    "print(c)\n",
    "\n",
    "c = np.concatenate((a,b))\n",
    "print(c)\n",
    "\n",
    "c = a*b\n",
    "print(c)\n",
    "\n",
    "## COMPATIBILITY\n",
    "c = a.shape == b.shape\n",
    "print(c)"
   ]
  },
  {
   "cell_type": "markdown",
   "id": "84d80490",
   "metadata": {},
   "source": [
    "## adding new row and column in matrics"
   ]
  },
  {
   "cell_type": "code",
   "execution_count": 23,
   "id": "0a40aabf",
   "metadata": {},
   "outputs": [
    {
     "name": "stdout",
     "output_type": "stream",
     "text": [
      "[[1 2]\n",
      " [3 4]]\n",
      "[[1 2]\n",
      " [3 4]\n",
      " [5 6]]\n",
      "[[1 2 7]\n",
      " [3 4 8]]\n"
     ]
    }
   ],
   "source": [
    "original = np.array([[1,2],[3,4]])\n",
    "new_row = np.array([[5,6]])\n",
    "new_col = np.array([[7],[8]])\n",
    "\n",
    "with_new_row = np.vstack((original,new_row))\n",
    "print(original)\n",
    "print(with_new_row)\n",
    "\n",
    "with_new_column = np.hstack((original,new_col))\n",
    "print(with_new_column)"
   ]
  },
  {
   "cell_type": "markdown",
   "id": "61ad340d",
   "metadata": {},
   "source": [
    "## deletion"
   ]
  },
  {
   "cell_type": "code",
   "execution_count": null,
   "id": "b41b71e8",
   "metadata": {},
   "outputs": [
    {
     "name": "stdout",
     "output_type": "stream",
     "text": [
      "[ 1  2  3  4  5  6  7  8  9 10]\n",
      "[ 1  2  4  5  6  7  8  9 10]\n",
      "[[1 4 6]\n",
      " [4 7 9]\n",
      " [1 8 2]]\n",
      "[1 4 4 7 1 8 2]\n"
     ]
    }
   ],
   "source": [
    "deleted = np.delete(arr,2)\n",
    "print(arr)\n",
    "print(deleted)\n",
    "\n",
    "arr_2d = np.array([[1,4,6],[4,7,9],[1,8,2]])\n",
    "deleted_2 = np.delete(arr_2d , [2,5]) ## takes the index of number and deletes it\n",
    "print(arr_2d)\n",
    "print(deleted_2)\n"
   ]
  },
  {
   "cell_type": "markdown",
   "id": "a3affb33",
   "metadata": {},
   "source": [
    "## inserting and appending"
   ]
  },
  {
   "cell_type": "code",
   "execution_count": 31,
   "id": "24e6924f",
   "metadata": {},
   "outputs": [
    {
     "name": "stdout",
     "output_type": "stream",
     "text": [
      "[1 2 3 4]\n",
      "[1 2 5 3 4]\n",
      "[[1 2]\n",
      " [3 4]]\n",
      "[[1 2]\n",
      " [5 6]\n",
      " [3 4]]\n",
      "[[1 5 2]\n",
      " [3 6 4]]\n",
      "[1 2 3 4 5 6 7 8]\n",
      "[1 2 3 4 5 6 7 8]\n"
     ]
    }
   ],
   "source": [
    "arr = np.array([1,2,3,4]) ## inserts at a particular position\n",
    "print(arr)\n",
    "print(np.insert(arr,2,5))\n",
    "arr_2 = np.array([[1,2],[3,4]])\n",
    "print(arr_2)\n",
    "print(np.insert(arr_2,1,[5,6],axis=0))\n",
    "print(np.insert(arr_2,1,[5,6],axis=1))\n",
    "\n",
    "\n",
    "print(np.append(arr,[5,6,7,8]))\n",
    "print(np.append(arr_2,[[5,6],[7,8]]))"
   ]
  },
  {
   "cell_type": "code",
   "execution_count": null,
   "id": "bb3beb81",
   "metadata": {},
   "outputs": [],
   "source": []
  }
 ],
 "metadata": {
  "kernelspec": {
   "display_name": ".venv",
   "language": "python",
   "name": "python3"
  },
  "language_info": {
   "codemirror_mode": {
    "name": "ipython",
    "version": 3
   },
   "file_extension": ".py",
   "mimetype": "text/x-python",
   "name": "python",
   "nbconvert_exporter": "python",
   "pygments_lexer": "ipython3",
   "version": "3.13.2"
  }
 },
 "nbformat": 4,
 "nbformat_minor": 5
}
