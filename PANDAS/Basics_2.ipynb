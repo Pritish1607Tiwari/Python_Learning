{
 "cells": [
  {
   "cell_type": "code",
   "execution_count": 1,
   "id": "5f772a68",
   "metadata": {},
   "outputs": [],
   "source": [
    "import pandas as pd"
   ]
  },
  {
   "cell_type": "markdown",
   "id": "4becacf5",
   "metadata": {},
   "source": [
    "# handling missing value\n",
    "isnull() - true if data is missing | false means data is present\n",
    "isnull().sum() - count of missing values in columns\n"
   ]
  },
  {
   "cell_type": "code",
   "execution_count": 4,
   "id": "edcfd94c",
   "metadata": {},
   "outputs": [],
   "source": [
    "data = {\n",
    "    \"name\": [\"pritish\",\"vasu\",\"ram\",\"shyam\",\"aman\"],\n",
    "    \"age\" : [24,25,22,23,None],\n",
    "    \"salary\":[200000,400000,None,60000,40000]\n",
    "}\n",
    "df=pd.DataFrame(data)"
   ]
  },
  {
   "cell_type": "code",
   "execution_count": 5,
   "id": "57897392",
   "metadata": {},
   "outputs": [
    {
     "data": {
      "text/html": [
       "<div>\n",
       "<style scoped>\n",
       "    .dataframe tbody tr th:only-of-type {\n",
       "        vertical-align: middle;\n",
       "    }\n",
       "\n",
       "    .dataframe tbody tr th {\n",
       "        vertical-align: top;\n",
       "    }\n",
       "\n",
       "    .dataframe thead th {\n",
       "        text-align: right;\n",
       "    }\n",
       "</style>\n",
       "<table border=\"1\" class=\"dataframe\">\n",
       "  <thead>\n",
       "    <tr style=\"text-align: right;\">\n",
       "      <th></th>\n",
       "      <th>name</th>\n",
       "      <th>age</th>\n",
       "      <th>salary</th>\n",
       "    </tr>\n",
       "  </thead>\n",
       "  <tbody>\n",
       "    <tr>\n",
       "      <th>0</th>\n",
       "      <td>False</td>\n",
       "      <td>False</td>\n",
       "      <td>False</td>\n",
       "    </tr>\n",
       "    <tr>\n",
       "      <th>1</th>\n",
       "      <td>False</td>\n",
       "      <td>False</td>\n",
       "      <td>False</td>\n",
       "    </tr>\n",
       "    <tr>\n",
       "      <th>2</th>\n",
       "      <td>False</td>\n",
       "      <td>False</td>\n",
       "      <td>True</td>\n",
       "    </tr>\n",
       "    <tr>\n",
       "      <th>3</th>\n",
       "      <td>False</td>\n",
       "      <td>False</td>\n",
       "      <td>False</td>\n",
       "    </tr>\n",
       "    <tr>\n",
       "      <th>4</th>\n",
       "      <td>False</td>\n",
       "      <td>True</td>\n",
       "      <td>False</td>\n",
       "    </tr>\n",
       "  </tbody>\n",
       "</table>\n",
       "</div>"
      ],
      "text/plain": [
       "    name    age  salary\n",
       "0  False  False   False\n",
       "1  False  False   False\n",
       "2  False  False    True\n",
       "3  False  False   False\n",
       "4  False   True   False"
      ]
     },
     "execution_count": 5,
     "metadata": {},
     "output_type": "execute_result"
    }
   ],
   "source": [
    "df.isnull()"
   ]
  },
  {
   "cell_type": "code",
   "execution_count": 6,
   "id": "1b59a401",
   "metadata": {},
   "outputs": [
    {
     "data": {
      "text/plain": [
       "name      0\n",
       "age       1\n",
       "salary    1\n",
       "dtype: int64"
      ]
     },
     "execution_count": 6,
     "metadata": {},
     "output_type": "execute_result"
    }
   ],
   "source": [
    "df.isnull().sum()"
   ]
  },
  {
   "cell_type": "markdown",
   "id": "6b4a8050",
   "metadata": {},
   "source": [
    "# Droping missing row or column\n",
    "dropna(axis=\" \", inplace=\"\")"
   ]
  },
  {
   "cell_type": "code",
   "execution_count": 8,
   "id": "f5c43ff1",
   "metadata": {},
   "outputs": [
    {
     "name": "stdout",
     "output_type": "stream",
     "text": [
      "      name   age    salary\n",
      "0  pritish  24.0  200000.0\n",
      "1     vasu  25.0  400000.0\n",
      "2      ram  22.0       NaN\n",
      "3    shyam  23.0   60000.0\n",
      "4     aman   NaN   40000.0\n",
      "      name   age    salary\n",
      "0  pritish  24.0  200000.0\n",
      "1     vasu  25.0  400000.0\n",
      "3    shyam  23.0   60000.0\n"
     ]
    }
   ],
   "source": [
    "drop_view =df.dropna(axis=0,inplace=False)\n",
    "print(df)\n",
    "print(drop_view)"
   ]
  },
  {
   "cell_type": "code",
   "execution_count": null,
   "id": "6be05b02",
   "metadata": {},
   "outputs": [
    {
     "name": "stderr",
     "output_type": "stream",
     "text": [
      "C:\\Users\\PRITISH TIWARI\\AppData\\Local\\Temp\\ipykernel_11956\\2931802352.py:2: FutureWarning: A value is trying to be set on a copy of a DataFrame or Series through chained assignment using an inplace method.\n",
      "The behavior will change in pandas 3.0. This inplace method will never work because the intermediate object on which we are setting values always behaves as a copy.\n",
      "\n",
      "For example, when doing 'df[col].method(value, inplace=True)', try using 'df.method({col: value}, inplace=True)' or df[col] = df[col].method(value) instead, to perform the operation inplace on the original object.\n",
      "\n",
      "\n",
      "  df[\"salary\"].fillna(df[\"salary\"].mean(),inplace=True)\n"
     ]
    },
    {
     "data": {
      "text/html": [
       "<div>\n",
       "<style scoped>\n",
       "    .dataframe tbody tr th:only-of-type {\n",
       "        vertical-align: middle;\n",
       "    }\n",
       "\n",
       "    .dataframe tbody tr th {\n",
       "        vertical-align: top;\n",
       "    }\n",
       "\n",
       "    .dataframe thead th {\n",
       "        text-align: right;\n",
       "    }\n",
       "</style>\n",
       "<table border=\"1\" class=\"dataframe\">\n",
       "  <thead>\n",
       "    <tr style=\"text-align: right;\">\n",
       "      <th></th>\n",
       "      <th>name</th>\n",
       "      <th>age</th>\n",
       "      <th>salary</th>\n",
       "    </tr>\n",
       "  </thead>\n",
       "  <tbody>\n",
       "    <tr>\n",
       "      <th>0</th>\n",
       "      <td>pritish</td>\n",
       "      <td>24.0</td>\n",
       "      <td>200000.0</td>\n",
       "    </tr>\n",
       "    <tr>\n",
       "      <th>1</th>\n",
       "      <td>vasu</td>\n",
       "      <td>25.0</td>\n",
       "      <td>400000.0</td>\n",
       "    </tr>\n",
       "    <tr>\n",
       "      <th>2</th>\n",
       "      <td>ram</td>\n",
       "      <td>22.0</td>\n",
       "      <td>175000.0</td>\n",
       "    </tr>\n",
       "    <tr>\n",
       "      <th>3</th>\n",
       "      <td>shyam</td>\n",
       "      <td>23.0</td>\n",
       "      <td>60000.0</td>\n",
       "    </tr>\n",
       "    <tr>\n",
       "      <th>4</th>\n",
       "      <td>aman</td>\n",
       "      <td>23.5</td>\n",
       "      <td>40000.0</td>\n",
       "    </tr>\n",
       "  </tbody>\n",
       "</table>\n",
       "</div>"
      ],
      "text/plain": [
       "      name   age    salary\n",
       "0  pritish  24.0  200000.0\n",
       "1     vasu  25.0  400000.0\n",
       "2      ram  22.0  175000.0\n",
       "3    shyam  23.0   60000.0\n",
       "4     aman  23.5   40000.0"
      ]
     },
     "execution_count": 11,
     "metadata": {},
     "output_type": "execute_result"
    }
   ],
   "source": [
    "## to fill null spaces we use FILLNA()\n",
    "\n",
    "df[\"age\"].fillna(df[\"age\"].mean(),inplace=True)\n",
    "df[\"salary\"].fillna(df[\"salary\"].mean(),inplace=True)\n",
    "df"
   ]
  },
  {
   "cell_type": "markdown",
   "id": "2d7ed2d8",
   "metadata": {},
   "source": [
    "# interpolate method\n",
    "fills null value on the basis of other data points around it\n",
    "df.interpolate(method=\"\",axis=\"\",inplace=\"true\")"
   ]
  },
  {
   "cell_type": "code",
   "execution_count": 12,
   "id": "a19b8d5d",
   "metadata": {},
   "outputs": [],
   "source": [
    "data = {\n",
    "    \"name\": [\"pritish\",\"vasu\",\"ram\",\"shyam\",\"aman\"],\n",
    "    \"age\" : [24,25,22,23,None],\n",
    "    \"salary\":[200000,400000,None,60000,40000]\n",
    "}\n",
    "df=pd.DataFrame(data)"
   ]
  },
  {
   "cell_type": "code",
   "execution_count": 13,
   "id": "fdf8fd23",
   "metadata": {},
   "outputs": [
    {
     "data": {
      "text/html": [
       "<div>\n",
       "<style scoped>\n",
       "    .dataframe tbody tr th:only-of-type {\n",
       "        vertical-align: middle;\n",
       "    }\n",
       "\n",
       "    .dataframe tbody tr th {\n",
       "        vertical-align: top;\n",
       "    }\n",
       "\n",
       "    .dataframe thead th {\n",
       "        text-align: right;\n",
       "    }\n",
       "</style>\n",
       "<table border=\"1\" class=\"dataframe\">\n",
       "  <thead>\n",
       "    <tr style=\"text-align: right;\">\n",
       "      <th></th>\n",
       "      <th>name</th>\n",
       "      <th>age</th>\n",
       "      <th>salary</th>\n",
       "    </tr>\n",
       "  </thead>\n",
       "  <tbody>\n",
       "    <tr>\n",
       "      <th>0</th>\n",
       "      <td>False</td>\n",
       "      <td>False</td>\n",
       "      <td>False</td>\n",
       "    </tr>\n",
       "    <tr>\n",
       "      <th>1</th>\n",
       "      <td>False</td>\n",
       "      <td>False</td>\n",
       "      <td>False</td>\n",
       "    </tr>\n",
       "    <tr>\n",
       "      <th>2</th>\n",
       "      <td>False</td>\n",
       "      <td>False</td>\n",
       "      <td>True</td>\n",
       "    </tr>\n",
       "    <tr>\n",
       "      <th>3</th>\n",
       "      <td>False</td>\n",
       "      <td>False</td>\n",
       "      <td>False</td>\n",
       "    </tr>\n",
       "    <tr>\n",
       "      <th>4</th>\n",
       "      <td>False</td>\n",
       "      <td>True</td>\n",
       "      <td>False</td>\n",
       "    </tr>\n",
       "  </tbody>\n",
       "</table>\n",
       "</div>"
      ],
      "text/plain": [
       "    name    age  salary\n",
       "0  False  False   False\n",
       "1  False  False   False\n",
       "2  False  False    True\n",
       "3  False  False   False\n",
       "4  False   True   False"
      ]
     },
     "execution_count": 13,
     "metadata": {},
     "output_type": "execute_result"
    }
   ],
   "source": [
    "df.isnull()\n"
   ]
  },
  {
   "cell_type": "code",
   "execution_count": 15,
   "id": "e277d660",
   "metadata": {},
   "outputs": [
    {
     "name": "stderr",
     "output_type": "stream",
     "text": [
      "C:\\Users\\PRITISH TIWARI\\AppData\\Local\\Temp\\ipykernel_11956\\4024095860.py:1: FutureWarning: DataFrame.interpolate with object dtype is deprecated and will raise in a future version. Call obj.infer_objects(copy=False) before interpolating instead.\n",
      "  df.interpolate(method=\"linear\",axis=0,inplace=True)\n"
     ]
    },
    {
     "data": {
      "text/html": [
       "<div>\n",
       "<style scoped>\n",
       "    .dataframe tbody tr th:only-of-type {\n",
       "        vertical-align: middle;\n",
       "    }\n",
       "\n",
       "    .dataframe tbody tr th {\n",
       "        vertical-align: top;\n",
       "    }\n",
       "\n",
       "    .dataframe thead th {\n",
       "        text-align: right;\n",
       "    }\n",
       "</style>\n",
       "<table border=\"1\" class=\"dataframe\">\n",
       "  <thead>\n",
       "    <tr style=\"text-align: right;\">\n",
       "      <th></th>\n",
       "      <th>name</th>\n",
       "      <th>age</th>\n",
       "      <th>salary</th>\n",
       "    </tr>\n",
       "  </thead>\n",
       "  <tbody>\n",
       "    <tr>\n",
       "      <th>0</th>\n",
       "      <td>pritish</td>\n",
       "      <td>24.0</td>\n",
       "      <td>200000.0</td>\n",
       "    </tr>\n",
       "    <tr>\n",
       "      <th>1</th>\n",
       "      <td>vasu</td>\n",
       "      <td>25.0</td>\n",
       "      <td>400000.0</td>\n",
       "    </tr>\n",
       "    <tr>\n",
       "      <th>2</th>\n",
       "      <td>ram</td>\n",
       "      <td>22.0</td>\n",
       "      <td>230000.0</td>\n",
       "    </tr>\n",
       "    <tr>\n",
       "      <th>3</th>\n",
       "      <td>shyam</td>\n",
       "      <td>23.0</td>\n",
       "      <td>60000.0</td>\n",
       "    </tr>\n",
       "    <tr>\n",
       "      <th>4</th>\n",
       "      <td>aman</td>\n",
       "      <td>23.0</td>\n",
       "      <td>40000.0</td>\n",
       "    </tr>\n",
       "  </tbody>\n",
       "</table>\n",
       "</div>"
      ],
      "text/plain": [
       "      name   age    salary\n",
       "0  pritish  24.0  200000.0\n",
       "1     vasu  25.0  400000.0\n",
       "2      ram  22.0  230000.0\n",
       "3    shyam  23.0   60000.0\n",
       "4     aman  23.0   40000.0"
      ]
     },
     "execution_count": 15,
     "metadata": {},
     "output_type": "execute_result"
    }
   ],
   "source": [
    "df.interpolate(method=\"linear\",axis=0,inplace=True)\n",
    "df"
   ]
  },
  {
   "cell_type": "markdown",
   "id": "c195d071",
   "metadata": {},
   "source": [
    "# sorting\n",
    "df.sort_values(by=\"\",ascending/descending=true/false,inplace=\"\")  true for ASC False for DESC"
   ]
  },
  {
   "cell_type": "code",
   "execution_count": 17,
   "id": "6b370598",
   "metadata": {},
   "outputs": [
    {
     "data": {
      "text/html": [
       "<div>\n",
       "<style scoped>\n",
       "    .dataframe tbody tr th:only-of-type {\n",
       "        vertical-align: middle;\n",
       "    }\n",
       "\n",
       "    .dataframe tbody tr th {\n",
       "        vertical-align: top;\n",
       "    }\n",
       "\n",
       "    .dataframe thead th {\n",
       "        text-align: right;\n",
       "    }\n",
       "</style>\n",
       "<table border=\"1\" class=\"dataframe\">\n",
       "  <thead>\n",
       "    <tr style=\"text-align: right;\">\n",
       "      <th></th>\n",
       "      <th>name</th>\n",
       "      <th>age</th>\n",
       "      <th>salary</th>\n",
       "    </tr>\n",
       "  </thead>\n",
       "  <tbody>\n",
       "    <tr>\n",
       "      <th>1</th>\n",
       "      <td>vasu</td>\n",
       "      <td>25.0</td>\n",
       "      <td>400000.0</td>\n",
       "    </tr>\n",
       "    <tr>\n",
       "      <th>0</th>\n",
       "      <td>pritish</td>\n",
       "      <td>24.0</td>\n",
       "      <td>200000.0</td>\n",
       "    </tr>\n",
       "    <tr>\n",
       "      <th>4</th>\n",
       "      <td>aman</td>\n",
       "      <td>23.0</td>\n",
       "      <td>40000.0</td>\n",
       "    </tr>\n",
       "    <tr>\n",
       "      <th>3</th>\n",
       "      <td>shyam</td>\n",
       "      <td>23.0</td>\n",
       "      <td>60000.0</td>\n",
       "    </tr>\n",
       "    <tr>\n",
       "      <th>2</th>\n",
       "      <td>ram</td>\n",
       "      <td>22.0</td>\n",
       "      <td>230000.0</td>\n",
       "    </tr>\n",
       "  </tbody>\n",
       "</table>\n",
       "</div>"
      ],
      "text/plain": [
       "      name   age    salary\n",
       "1     vasu  25.0  400000.0\n",
       "0  pritish  24.0  200000.0\n",
       "4     aman  23.0   40000.0\n",
       "3    shyam  23.0   60000.0\n",
       "2      ram  22.0  230000.0"
      ]
     },
     "execution_count": 17,
     "metadata": {},
     "output_type": "execute_result"
    }
   ],
   "source": [
    "df.sort_values(by=\"age\",ascending=False,inplace=True)\n",
    "df"
   ]
  },
  {
   "cell_type": "code",
   "execution_count": 18,
   "id": "174594b2",
   "metadata": {},
   "outputs": [
    {
     "data": {
      "text/html": [
       "<div>\n",
       "<style scoped>\n",
       "    .dataframe tbody tr th:only-of-type {\n",
       "        vertical-align: middle;\n",
       "    }\n",
       "\n",
       "    .dataframe tbody tr th {\n",
       "        vertical-align: top;\n",
       "    }\n",
       "\n",
       "    .dataframe thead th {\n",
       "        text-align: right;\n",
       "    }\n",
       "</style>\n",
       "<table border=\"1\" class=\"dataframe\">\n",
       "  <thead>\n",
       "    <tr style=\"text-align: right;\">\n",
       "      <th></th>\n",
       "      <th>name</th>\n",
       "      <th>age</th>\n",
       "      <th>salary</th>\n",
       "    </tr>\n",
       "  </thead>\n",
       "  <tbody>\n",
       "    <tr>\n",
       "      <th>2</th>\n",
       "      <td>ram</td>\n",
       "      <td>22.0</td>\n",
       "      <td>230000.0</td>\n",
       "    </tr>\n",
       "    <tr>\n",
       "      <th>3</th>\n",
       "      <td>shyam</td>\n",
       "      <td>23.0</td>\n",
       "      <td>60000.0</td>\n",
       "    </tr>\n",
       "    <tr>\n",
       "      <th>4</th>\n",
       "      <td>aman</td>\n",
       "      <td>23.0</td>\n",
       "      <td>40000.0</td>\n",
       "    </tr>\n",
       "    <tr>\n",
       "      <th>0</th>\n",
       "      <td>pritish</td>\n",
       "      <td>24.0</td>\n",
       "      <td>200000.0</td>\n",
       "    </tr>\n",
       "    <tr>\n",
       "      <th>1</th>\n",
       "      <td>vasu</td>\n",
       "      <td>25.0</td>\n",
       "      <td>400000.0</td>\n",
       "    </tr>\n",
       "  </tbody>\n",
       "</table>\n",
       "</div>"
      ],
      "text/plain": [
       "      name   age    salary\n",
       "2      ram  22.0  230000.0\n",
       "3    shyam  23.0   60000.0\n",
       "4     aman  23.0   40000.0\n",
       "0  pritish  24.0  200000.0\n",
       "1     vasu  25.0  400000.0"
      ]
     },
     "execution_count": 18,
     "metadata": {},
     "output_type": "execute_result"
    }
   ],
   "source": [
    "df.sort_values(by=[\"age\",\"salary\"],ascending=[True,False],inplace=True)\n",
    "df"
   ]
  },
  {
   "cell_type": "markdown",
   "id": "a8f6fd2e",
   "metadata": {},
   "source": [
    "# Group by Method"
   ]
  },
  {
   "cell_type": "code",
   "execution_count": 20,
   "id": "86c599c6",
   "metadata": {},
   "outputs": [
    {
     "name": "stdout",
     "output_type": "stream",
     "text": [
      "age\n",
      "22.0    230000.0\n",
      "23.0    100000.0\n",
      "24.0    200000.0\n",
      "25.0    400000.0\n",
      "Name: salary, dtype: float64\n"
     ]
    }
   ],
   "source": [
    "group_by=df.groupby(\"age\")[\"salary\"].sum()\n",
    "print(group_by)"
   ]
  },
  {
   "cell_type": "code",
   "execution_count": 22,
   "id": "1d618331",
   "metadata": {},
   "outputs": [
    {
     "name": "stdout",
     "output_type": "stream",
     "text": [
      "age   name   \n",
      "22.0  ram        230000.0\n",
      "23.0  aman        40000.0\n",
      "      shyam       60000.0\n",
      "24.0  pritish    200000.0\n",
      "25.0  vasu       400000.0\n",
      "Name: salary, dtype: float64\n"
     ]
    }
   ],
   "source": [
    "group_by_2=df.groupby([\"age\",\"name\"])[\"salary\"].sum()\n",
    "print(group_by_2)"
   ]
  },
  {
   "cell_type": "markdown",
   "id": "059ba291",
   "metadata": {},
   "source": [
    "# Merge and join\n",
    "pd.merge(df1,df2,on=\"column name\",how=\"type of join\")"
   ]
  },
  {
   "cell_type": "code",
   "execution_count": 25,
   "id": "33593deb",
   "metadata": {},
   "outputs": [],
   "source": [
    "df1={\n",
    "    \"emp_id\":[1,2,3],\n",
    "    \"name\" : [\"ram\",\"shyam\",\"aman\"]\n",
    "}\n",
    "df2={\n",
    "    \"emp_id\" : [1,2,4],\n",
    "    \"salary\" : [2000,4000,5000]\n",
    "}\n",
    "df1=pd.DataFrame(df1)\n",
    "df2=pd.DataFrame(df2)\n"
   ]
  },
  {
   "cell_type": "markdown",
   "id": "7db4b400",
   "metadata": {},
   "source": [
    "# inner join | \n",
    "only gives common data present in both side\n"
   ]
  },
  {
   "cell_type": "code",
   "execution_count": 26,
   "id": "5fac1c54",
   "metadata": {},
   "outputs": [
    {
     "name": "stdout",
     "output_type": "stream",
     "text": [
      "inner join\n",
      "   emp_id   name  salary\n",
      "0       1    ram    2000\n",
      "1       2  shyam    4000\n"
     ]
    }
   ],
   "source": [
    "merged = pd.merge(df1,df2,on=\"emp_id\",how=\"inner\")\n",
    "print(\"inner join\")\n",
    "print(merged)"
   ]
  },
  {
   "cell_type": "markdown",
   "id": "4c0d4098",
   "metadata": {},
   "source": [
    "# outer join\n",
    "gives all data and fills missing values with NaN"
   ]
  },
  {
   "cell_type": "code",
   "execution_count": 27,
   "id": "2b3d9d71",
   "metadata": {},
   "outputs": [
    {
     "name": "stdout",
     "output_type": "stream",
     "text": [
      "outer join\n",
      "   emp_id   name  salary\n",
      "0       1    ram  2000.0\n",
      "1       2  shyam  4000.0\n",
      "2       3   aman     NaN\n",
      "3       4    NaN  5000.0\n"
     ]
    }
   ],
   "source": [
    "merged = pd.merge(df1,df2,on=\"emp_id\",how=\"outer\")\n",
    "print(\"outer join\")\n",
    "print(merged)"
   ]
  },
  {
   "cell_type": "markdown",
   "id": "f3a68ca7",
   "metadata": {},
   "source": [
    " # left join\n",
    " gives only left side value\n",
    " "
   ]
  },
  {
   "cell_type": "code",
   "execution_count": 28,
   "id": "c9df25f9",
   "metadata": {},
   "outputs": [
    {
     "name": "stdout",
     "output_type": "stream",
     "text": [
      "left join\n",
      "   emp_id   name  salary\n",
      "0       1    ram  2000.0\n",
      "1       2  shyam  4000.0\n",
      "2       3   aman     NaN\n"
     ]
    }
   ],
   "source": [
    "merged = pd.merge(df1,df2,on=\"emp_id\",how=\"left\")\n",
    "print(\"left join\")\n",
    "print(merged)"
   ]
  },
  {
   "cell_type": "markdown",
   "id": "7454ecf4",
   "metadata": {},
   "source": [
    "# right join\n",
    "gives only right side value"
   ]
  },
  {
   "cell_type": "code",
   "execution_count": 30,
   "id": "1a20da8c",
   "metadata": {},
   "outputs": [
    {
     "name": "stdout",
     "output_type": "stream",
     "text": [
      "right join\n",
      "   emp_id   name  salary\n",
      "0       1    ram    2000\n",
      "1       2  shyam    4000\n",
      "2       4    NaN    5000\n"
     ]
    }
   ],
   "source": [
    "merged = pd.merge(df1,df2,on=\"emp_id\",how=\"right\")\n",
    "print(\"right join\")\n",
    "print(merged)"
   ]
  },
  {
   "cell_type": "markdown",
   "id": "67bf8ec7",
   "metadata": {},
   "source": [
    "# concatenate\n",
    "pd.concat([df1,df2],axis=\"\",ignoew_index=\"\")"
   ]
  },
  {
   "cell_type": "code",
   "execution_count": 31,
   "id": "f45bb5db",
   "metadata": {},
   "outputs": [],
   "source": [
    "df1={\n",
    "    \"emp_id\":[1,2,3],\n",
    "    \"name\" : [\"ram\",\"shyam\",\"aman\"]\n",
    "}\n",
    "df2={\n",
    "    \"emp_id\" : [4,5,6],\n",
    "    \"name\": [\"seedhe\",\"maut\",\"KR$NA\"]\n",
    "}\n",
    "df1=pd.DataFrame(df1)\n",
    "df2=pd.DataFrame(df2)"
   ]
  },
  {
   "cell_type": "code",
   "execution_count": 32,
   "id": "8c249829",
   "metadata": {},
   "outputs": [
    {
     "name": "stdout",
     "output_type": "stream",
     "text": [
      "   emp_id    name\n",
      "0       1     ram\n",
      "1       2   shyam\n",
      "2       3    aman\n",
      "3       4  seedhe\n",
      "4       5    maut\n",
      "5       6   KR$NA\n"
     ]
    }
   ],
   "source": [
    "concat=pd.concat([df1,df2],axis=0,ignore_index=True)\n",
    "print(concat)"
   ]
  },
  {
   "cell_type": "code",
   "execution_count": 33,
   "id": "3fc46031",
   "metadata": {},
   "outputs": [
    {
     "name": "stdout",
     "output_type": "stream",
     "text": [
      "   0      1  2       3\n",
      "0  1    ram  4  seedhe\n",
      "1  2  shyam  5    maut\n",
      "2  3   aman  6   KR$NA\n"
     ]
    }
   ],
   "source": [
    "concat=pd.concat([df1,df2],axis=1,ignore_index=True)\n",
    "print(concat)"
   ]
  },
  {
   "cell_type": "code",
   "execution_count": null,
   "id": "f356ecc8",
   "metadata": {},
   "outputs": [],
   "source": []
  }
 ],
 "metadata": {
  "kernelspec": {
   "display_name": ".venv",
   "language": "python",
   "name": "python3"
  },
  "language_info": {
   "codemirror_mode": {
    "name": "ipython",
    "version": 3
   },
   "file_extension": ".py",
   "mimetype": "text/x-python",
   "name": "python",
   "nbconvert_exporter": "python",
   "pygments_lexer": "ipython3",
   "version": "3.13.2"
  }
 },
 "nbformat": 4,
 "nbformat_minor": 5
}
