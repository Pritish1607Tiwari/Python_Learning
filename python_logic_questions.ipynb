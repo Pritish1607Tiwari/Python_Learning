{
 "cells": [
  {
   "cell_type": "markdown",
   "id": "1eefc1e2",
   "metadata": {},
   "source": [
    "# Python Logic Practice Questions (Basic to Intermediate)"
   ]
  },
  {
   "cell_type": "markdown",
   "id": "c16b9805",
   "metadata": {},
   "source": [
    "1. Write a program to check if a number is even or odd."
   ]
  },
  {
   "cell_type": "markdown",
   "id": "c5078855",
   "metadata": {},
   "source": [
    "2. Write a program to find the largest among three numbers."
   ]
  },
  {
   "cell_type": "markdown",
   "id": "641d7010",
   "metadata": {},
   "source": [
    "3. Write a program to check whether a number is prime."
   ]
  },
  {
   "cell_type": "markdown",
   "id": "c62f2e26",
   "metadata": {},
   "source": [
    "4. Write a program to print the Fibonacci sequence up to n terms."
   ]
  },
  {
   "cell_type": "markdown",
   "id": "6596e2e3",
   "metadata": {},
   "source": [
    "5. Write a program to check if a string is a palindrome."
   ]
  },
  {
   "cell_type": "markdown",
   "id": "f243961f",
   "metadata": {},
   "source": [
    "6. Write a program to find the factorial of a number."
   ]
  },
  {
   "cell_type": "markdown",
   "id": "33524744",
   "metadata": {},
   "source": [
    "7. Write a program to reverse a number."
   ]
  },
  {
   "cell_type": "markdown",
   "id": "2b1733cb",
   "metadata": {},
   "source": [
    "8. Write a program to count the number of digits in a number."
   ]
  },
  {
   "cell_type": "markdown",
   "id": "a9d82b57",
   "metadata": {},
   "source": [
    "9. Write a program to sum all digits of a number."
   ]
  },
  {
   "cell_type": "markdown",
   "id": "9fe0707b",
   "metadata": {},
   "source": [
    "10. Write a program to check if a number is an Armstrong number."
   ]
  },
  {
   "cell_type": "markdown",
   "id": "acbc0777",
   "metadata": {},
   "source": [
    "11. Write a program to print all prime numbers in a given range."
   ]
  },
  {
   "cell_type": "markdown",
   "id": "844f5d5d",
   "metadata": {},
   "source": [
    "12. Write a program to find the GCD of two numbers."
   ]
  },
  {
   "cell_type": "markdown",
   "id": "fa157a89",
   "metadata": {},
   "source": [
    "13. Write a program to find the LCM of two numbers."
   ]
  },
  {
   "cell_type": "markdown",
   "id": "2518ba38",
   "metadata": {},
   "source": [
    "14. Write a program to print a multiplication table for a number."
   ]
  },
  {
   "cell_type": "markdown",
   "id": "6188423c",
   "metadata": {},
   "source": [
    "15. Write a program to swap two numbers without using a temporary variable."
   ]
  },
  {
   "cell_type": "markdown",
   "id": "cf6151f7",
   "metadata": {},
   "source": [
    "16. Write a program to find the sum of the first n natural numbers."
   ]
  },
  {
   "cell_type": "markdown",
   "id": "f5ccb136",
   "metadata": {},
   "source": [
    "17. Write a program to print the reverse of a string."
   ]
  },
  {
   "cell_type": "markdown",
   "id": "5cd06ddd",
   "metadata": {},
   "source": [
    "18. Write a program to count vowels and consonants in a string."
   ]
  },
  {
   "cell_type": "markdown",
   "id": "1c793a47",
   "metadata": {},
   "source": [
    "19. Write a program to remove all vowels from a string."
   ]
  },
  {
   "cell_type": "markdown",
   "id": "a8f1b614",
   "metadata": {},
   "source": [
    "20. Write a program to find the second largest number in a list."
   ]
  },
  {
   "cell_type": "markdown",
   "id": "9be6ccf6",
   "metadata": {},
   "source": [
    "21. Write a program to find the sum of all elements in a list."
   ]
  },
  {
   "cell_type": "markdown",
   "id": "f9d21a7a",
   "metadata": {},
   "source": [
    "22. Write a program to find the average of a list."
   ]
  },
  {
   "cell_type": "markdown",
   "id": "cba0cdbc",
   "metadata": {},
   "source": [
    "23. Write a program to count even and odd numbers in a list."
   ]
  },
  {
   "cell_type": "markdown",
   "id": "ff4a5b03",
   "metadata": {},
   "source": [
    "24. Write a program to remove duplicates from a list."
   ]
  },
  {
   "cell_type": "markdown",
   "id": "24798118",
   "metadata": {},
   "source": [
    "25. Write a program to sort a list without using the built-in sort()."
   ]
  },
  {
   "cell_type": "markdown",
   "id": "a9451b5f",
   "metadata": {},
   "source": [
    "26. Write a program to merge two lists without using built-in functions."
   ]
  },
  {
   "cell_type": "markdown",
   "id": "bba03124",
   "metadata": {},
   "source": [
    "27. Write a program to remove all negative numbers from a list."
   ]
  },
  {
   "cell_type": "markdown",
   "id": "f8a14373",
   "metadata": {},
   "source": [
    "28. Write a program to find the maximum product of two integers in a list."
   ]
  },
  {
   "cell_type": "markdown",
   "id": "1f424f7f",
   "metadata": {},
   "source": [
    "29. Write a program to implement binary search."
   ]
  },
  {
   "cell_type": "markdown",
   "id": "a0068666",
   "metadata": {},
   "source": [
    "30. Write a program to implement linear search."
   ]
  },
  {
   "cell_type": "markdown",
   "id": "004bea9f",
   "metadata": {},
   "source": [
    "31. Write a program to find the common elements between two lists."
   ]
  },
  {
   "cell_type": "markdown",
   "id": "e08da7b7",
   "metadata": {},
   "source": [
    "32. Write a program to generate a list of all even numbers in a range."
   ]
  },
  {
   "cell_type": "markdown",
   "id": "f9223773",
   "metadata": {},
   "source": [
    "33. Write a program to rotate a list to the right by k steps."
   ]
  },
  {
   "cell_type": "markdown",
   "id": "17fd9b13",
   "metadata": {},
   "source": [
    "34. Write a program to find the missing number in a list of 1 to n."
   ]
  },
  {
   "cell_type": "markdown",
   "id": "c3b81e7e",
   "metadata": {},
   "source": [
    "35. Write a program to find all pairs in a list that sum to a target number."
   ]
  },
  {
   "cell_type": "markdown",
   "id": "c7504513",
   "metadata": {},
   "source": [
    "36. Write a program to flatten a nested list."
   ]
  },
  {
   "cell_type": "markdown",
   "id": "71f868d3",
   "metadata": {},
   "source": [
    "37. Write a program to find the frequency of each element in a list."
   ]
  },
  {
   "cell_type": "markdown",
   "id": "64402c99",
   "metadata": {},
   "source": [
    "38. Write a program to find the first non-repeating character in a string."
   ]
  },
  {
   "cell_type": "markdown",
   "id": "4a24a6c3",
   "metadata": {},
   "source": [
    "39. Write a program to check if two strings are anagrams."
   ]
  },
  {
   "cell_type": "markdown",
   "id": "deef5df2",
   "metadata": {},
   "source": [
    "40. Write a program to find the longest word in a string."
   ]
  },
  {
   "cell_type": "markdown",
   "id": "3e86d687",
   "metadata": {},
   "source": [
    "41. Write a program to capitalize the first letter of each word in a string."
   ]
  },
  {
   "cell_type": "markdown",
   "id": "c6688fb6",
   "metadata": {},
   "source": [
    "42. Write a program to count the number of words in a string."
   ]
  },
  {
   "cell_type": "markdown",
   "id": "594ad4ea",
   "metadata": {},
   "source": [
    "43. Write a program to reverse the words in a sentence."
   ]
  },
  {
   "cell_type": "markdown",
   "id": "c5d8de4e",
   "metadata": {},
   "source": [
    "44. Write a program to remove punctuation from a string."
   ]
  },
  {
   "cell_type": "markdown",
   "id": "75c2406d",
   "metadata": {},
   "source": [
    "45. Write a program to check if a substring is present in a string."
   ]
  },
  {
   "cell_type": "markdown",
   "id": "d3b85c67",
   "metadata": {},
   "source": [
    "46. Write a program to remove a specific element from a list."
   ]
  },
  {
   "cell_type": "markdown",
   "id": "17971895",
   "metadata": {},
   "source": [
    "47. Write a program to insert an element at a specific position in a list."
   ]
  },
  {
   "cell_type": "markdown",
   "id": "b66f4143",
   "metadata": {},
   "source": [
    "48. Write a program to print the ASCII value of a character."
   ]
  },
  {
   "cell_type": "markdown",
   "id": "b6aca17c",
   "metadata": {},
   "source": [
    "49. Write a program to convert decimal to binary."
   ]
  },
  {
   "cell_type": "markdown",
   "id": "77ddd39b",
   "metadata": {},
   "source": [
    "50. Write a program to convert binary to decimal."
   ]
  },
  {
   "cell_type": "markdown",
   "id": "5feefe68",
   "metadata": {},
   "source": [
    "51. Write a program to calculate the power of a number without using `**`."
   ]
  },
  {
   "cell_type": "markdown",
   "id": "a44f4034",
   "metadata": {},
   "source": [
    "52. Write a program to print the pattern:\n",
    "*\n",
    "**\n",
    "***\n",
    "****"
   ]
  },
  {
   "cell_type": "markdown",
   "id": "58f77853",
   "metadata": {},
   "source": [
    "53. Write a program to print a number pyramid pattern."
   ]
  },
  {
   "cell_type": "markdown",
   "id": "42b55981",
   "metadata": {},
   "source": [
    "54. Write a program to print a diamond pattern."
   ]
  },
  {
   "cell_type": "markdown",
   "id": "6abf53a2",
   "metadata": {},
   "source": [
    "55. Write a program to count the number of uppercase and lowercase letters in a string."
   ]
  },
  {
   "cell_type": "markdown",
   "id": "dfd79a7e",
   "metadata": {},
   "source": [
    "56. Write a program to count the occurrence of a specific character in a string."
   ]
  },
  {
   "cell_type": "markdown",
   "id": "bfc9c3bb",
   "metadata": {},
   "source": [
    "57. Write a program to remove all whitespaces from a string."
   ]
  },
  {
   "cell_type": "markdown",
   "id": "5dc77c1b",
   "metadata": {},
   "source": [
    "58. Write a program to check if a string has all unique characters."
   ]
  },
  {
   "cell_type": "markdown",
   "id": "4158c1e0",
   "metadata": {},
   "source": [
    "59. Write a program to implement a simple calculator (add, subtract, multiply, divide)."
   ]
  },
  {
   "cell_type": "markdown",
   "id": "e6639b6b",
   "metadata": {},
   "source": [
    "60. Write a program to find the sum of all odd numbers up to a given number."
   ]
  }
 ],
 "metadata": {},
 "nbformat": 4,
 "nbformat_minor": 5
}